{
 "cells": [
  {
   "cell_type": "code",
   "execution_count": 1,
   "metadata": {},
   "outputs": [],
   "source": [
    "import torch"
   ]
  },
  {
   "cell_type": "code",
   "execution_count": 2,
   "metadata": {},
   "outputs": [
    {
     "name": "stdout",
     "output_type": "stream",
     "text": [
      "fatal: destination path 'onnx-simplifier' already exists and is not an empty directory.\n"
     ]
    }
   ],
   "source": [
    "!git clone https://github.com/daquexian/onnx-simplifier"
   ]
  },
  {
   "cell_type": "code",
   "execution_count": 3,
   "metadata": {},
   "outputs": [
    {
     "name": "stdout",
     "output_type": "stream",
     "text": [
      "Requirement already satisfied: onnx-simplifier in /usr/local/lib/python3.6/dist-packages/onnx_simplifier-0.0.0-py3.6.egg\n",
      "Requirement already satisfied: onnx in /usr/local/lib/python3.6/dist-packages (from onnx-simplifier)\n",
      "Requirement already satisfied: onnxruntime>=0.3.0 in /usr/local/lib/python3.6/dist-packages/onnxruntime-1.1.1-py3.6-linux-x86_64.egg (from onnx-simplifier)\n",
      "Requirement already satisfied: protobuf>=3.7.0 in /usr/local/lib/python3.6/dist-packages (from onnx-simplifier)\n",
      "Requirement already satisfied: six in /usr/local/lib/python3.6/dist-packages (from onnx->onnx-simplifier)\n",
      "Requirement already satisfied: numpy in /usr/local/lib/python3.6/dist-packages (from onnx->onnx-simplifier)\n",
      "Requirement already satisfied: typing-extensions>=3.6.2.1 in /usr/local/lib/python3.6/dist-packages (from onnx->onnx-simplifier)\n",
      "Requirement already satisfied: typing>=3.6.4 in /usr/local/lib/python3.6/dist-packages (from onnx->onnx-simplifier)\n",
      "Requirement already satisfied: setuptools in /usr/lib/python3/dist-packages (from protobuf>=3.7.0->onnx-simplifier)\n",
      "Note: you may need to restart the kernel to use updated packages.\n"
     ]
    }
   ],
   "source": [
    "pip install onnx-simplifier"
   ]
  },
  {
   "cell_type": "code",
   "execution_count": 4,
   "metadata": {},
   "outputs": [
    {
     "name": "stdout",
     "output_type": "stream",
     "text": [
      "Simplifying...\n",
      "Traceback (most recent call last):\n",
      "  File \"/usr/lib/python3.6/runpy.py\", line 193, in _run_module_as_main\n",
      "    \"__main__\", mod_spec)\n",
      "  File \"/usr/lib/python3.6/runpy.py\", line 85, in _run_code\n",
      "    exec(code, run_globals)\n",
      "  File \"/usr/local/lib/python3.6/dist-packages/onnx_simplifier-0.0.0-py3.6.egg/onnxsim/__main__.py\", line 42, in <module>\n",
      "  File \"/usr/local/lib/python3.6/dist-packages/onnx_simplifier-0.0.0-py3.6.egg/onnxsim/__main__.py\", line 31, in main\n",
      "  File \"/usr/local/lib/python3.6/dist-packages/onnx_simplifier-0.0.0-py3.6.egg/onnxsim/onnx_simplifier.py\", line 292, in simplify\n",
      "  File \"/usr/local/lib/python3.6/dist-packages/onnx/__init__.py\", line 113, in load_model\n",
      "    s = _load_bytes(f)\n",
      "  File \"/usr/local/lib/python3.6/dist-packages/onnx/__init__.py\", line 29, in _load_bytes\n",
      "    with open(cast(Text, f), 'rb') as readable:\n",
      "FileNotFoundError: [Errno 2] No such file or directory: './newmodel/trainfp32.onnx'\n",
      "Simplifying...\n",
      "Traceback (most recent call last):\n",
      "  File \"/usr/lib/python3.6/runpy.py\", line 193, in _run_module_as_main\n",
      "    \"__main__\", mod_spec)\n",
      "  File \"/usr/lib/python3.6/runpy.py\", line 85, in _run_code\n",
      "    exec(code, run_globals)\n",
      "  File \"/usr/local/lib/python3.6/dist-packages/onnx_simplifier-0.0.0-py3.6.egg/onnxsim/__main__.py\", line 42, in <module>\n",
      "  File \"/usr/local/lib/python3.6/dist-packages/onnx_simplifier-0.0.0-py3.6.egg/onnxsim/__main__.py\", line 31, in main\n",
      "  File \"/usr/local/lib/python3.6/dist-packages/onnx_simplifier-0.0.0-py3.6.egg/onnxsim/onnx_simplifier.py\", line 292, in simplify\n",
      "  File \"/usr/local/lib/python3.6/dist-packages/onnx/__init__.py\", line 113, in load_model\n",
      "    s = _load_bytes(f)\n",
      "  File \"/usr/local/lib/python3.6/dist-packages/onnx/__init__.py\", line 29, in _load_bytes\n",
      "    with open(cast(Text, f), 'rb') as readable:\n",
      "FileNotFoundError: [Errno 2] No such file or directory: './newmodel/trainamp.onnx'\n"
     ]
    }
   ],
   "source": [
    "!python3 -m onnxsim ./newmodel/trainfp32.onnx ./newmodel/simplefp32.onnx\n",
    "!python3 -m onnxsim ./newmodel/trainamp.onnx ./newmodel/simpleamp.onnx"
   ]
  },
  {
   "cell_type": "code",
   "execution_count": 5,
   "metadata": {},
   "outputs": [
    {
     "name": "stdout",
     "output_type": "stream",
     "text": [
      "----------------------------------------------------------------\n",
      "Input filename:   ./newmodel/simplefp32.onnx\n",
      "ONNX IR version:  0.0.4\n",
      "Opset version:    9\n",
      "Producer name:    pytorch\n",
      "Producer version: 1.3\n",
      "Domain:           \n",
      "Model version:    0\n",
      "Doc string:       \n",
      "----------------------------------------------------------------\n",
      "Parsing model\n",
      "Building TensorRT engine, FP16 available:1\n",
      "    Max batch size:     32\n",
      "    Max workspace size: 1024 MiB\n",
      "Writing TensorRT engine to ./TRTenginefp32.trt\n",
      "All done\n"
     ]
    }
   ],
   "source": [
    "!onnx2trt ./newmodel/simplefp32.onnx -o ./TRTenginefp32.trt"
   ]
  },
  {
   "cell_type": "code",
   "execution_count": 1,
   "metadata": {},
   "outputs": [
    {
     "name": "stdout",
     "output_type": "stream",
     "text": [
      "/bin/dash: 1: onnx2trt: not found\n"
     ]
    }
   ],
   "source": [
    "!onnx2trt ./newmodel/simpleamp.onnx -o ./newmodel/TRTengineamp.trt"
   ]
  }
 ],
 "metadata": {
  "kernelspec": {
   "display_name": "Python 3",
   "language": "python",
   "name": "python3"
  },
  "language_info": {
   "codemirror_mode": {
    "name": "ipython",
    "version": 3
   },
   "file_extension": ".py",
   "mimetype": "text/x-python",
   "name": "python",
   "nbconvert_exporter": "python",
   "pygments_lexer": "ipython3",
   "version": "3.6.9"
  }
 },
 "nbformat": 4,
 "nbformat_minor": 4
}
